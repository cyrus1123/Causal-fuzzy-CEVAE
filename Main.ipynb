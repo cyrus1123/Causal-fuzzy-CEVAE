{
  "nbformat": 4,
  "nbformat_minor": 0,
  "metadata": {
    "colab": {
      "name": "tre.ipynb",
      "provenance": [],
      "collapsed_sections": []
    },
    "kernelspec": {
      "display_name": "Python 3",
      "name": "python3"
    },
    "accelerator": "GPU"
  },
  "cells": [
    {
      "cell_type": "code",
      "metadata": {
        "id": "LvmwfYF27p17"
      },
      "source": [
        "!pip install -U scikit-fuzzy\n",
        "!git clone  https://github.com/cyrus1123/FuzzyCevae.git\n",
        "%cd FuzzyCevae\n",
        "!unzip pyro-dev.zip\n",
        "%cd pyro-dev\n",
        "%cd pyro-dev\n",
        "!python setup.py install\n",
        "import numpy as np\n",
        "import skfuzzy as fuzz\n",
        "from skfuzzy import control as ctrl\n",
        "import tensorflow as tf\n",
        "from __future__ import absolute_import, division, print_function\n",
        "import sys\n",
        "import matplotlib.pyplot as plt\n",
        "import logging\n",
        "\n",
        "import torch\n",
        "import torch.nn as nn\n",
        "from torch.utils.data import DataLoader, TensorDataset\n",
        "\n",
        "import pyro\n",
        "import pyro.distributions as dist\n",
        "from pyro import poutine\n",
        "from pyro.infer import SVI, Trace_ELBO\n",
        "from pyro.infer.util import torch_item\n",
        "from pyro.nn import PyroModule\n",
        "from pyro.optim import ClippedAdam\n",
        "from pyro.util import torch_isnan\n",
        "\n",
        "logger = logging.getLogger(__name__)\n"
      ],
      "execution_count": null,
      "outputs": []
    },
    {
      "cell_type": "code",
      "metadata": {
        "id": "Ln0cSs2uFdaT"
      },
      "source": [
        "z = ctrl.Antecedent(np.arange(0, 1, 0.01), 'z')\n",
        "y = ctrl.Antecedent(np.arange(0, 1, 0.01), 'y')\n",
        "out = ctrl.Consequent(np.arange(0, 1, 0.01), 'out')\n",
        "\n",
        "# Auto-membership function population is possible with .automf(3, 5, or 7)\n",
        "y.automf(3)\n",
        "z.automf(3)\n",
        "\n",
        "# Custom membership functions can be built interactively with a familiar,\n",
        "# Pythonic API\n",
        "out['low'] = fuzz.trimf(out.universe, [0, 0, 0.3])\n",
        "out['medium'] = fuzz.trimf(out.universe, [0, 0.5, 1])\n",
        "out['high'] = fuzz.trimf(out.universe, [0.5, 1, 1])\n",
        "#_____________________________________\n",
        "rule1 = ctrl.Rule(y['poor'] | z['poor'], out['low'])\n",
        "rule2 = ctrl.Rule(y['average'], out['medium'])\n",
        "rule3 = ctrl.Rule(y['good'] | z['good'], out['high'])\n",
        "#_____________________________________\n",
        "tipping_ctrl = ctrl.ControlSystem([rule1, rule2, rule3])\n",
        "tipping = ctrl.ControlSystemSimulation(tipping_ctrl)\n"
      ],
      "execution_count": 8,
      "outputs": []
    },
    {
      "cell_type": "code",
      "metadata": {
        "id": "QpCqTN7YFFPD",
        "colab": {
          "base_uri": "https://localhost:8080/",
          "height": 1000
        },
        "outputId": "822a0071-e6f9-48ed-859d-263488a3fed2"
      },
      "source": [
        "!pip install causalml\n",
        " "
      ],
      "execution_count": 10,
      "outputs": [
        {
          "output_type": "stream",
          "text": [
            "Collecting causalml\n",
            "\u001b[?25l  Downloading https://files.pythonhosted.org/packages/44/ec/594b32198001b5babf79525958a4134dcbb44418b6296007aebe47024046/causalml-0.10.0.tar.gz (235kB)\n",
            "\r\u001b[K     |█▍                              | 10kB 16.0MB/s eta 0:00:01\r\u001b[K     |██▉                             | 20kB 10.2MB/s eta 0:00:01\r\u001b[K     |████▏                           | 30kB 8.2MB/s eta 0:00:01\r\u001b[K     |█████▋                          | 40kB 7.3MB/s eta 0:00:01\r\u001b[K     |███████                         | 51kB 4.5MB/s eta 0:00:01\r\u001b[K     |████████▍                       | 61kB 4.5MB/s eta 0:00:01\r\u001b[K     |█████████▊                      | 71kB 4.9MB/s eta 0:00:01\r\u001b[K     |███████████▏                    | 81kB 5.1MB/s eta 0:00:01\r\u001b[K     |████████████▌                   | 92kB 5.2MB/s eta 0:00:01\r\u001b[K     |██████████████                  | 102kB 5.4MB/s eta 0:00:01\r\u001b[K     |███████████████▎                | 112kB 5.4MB/s eta 0:00:01\r\u001b[K     |████████████████▊               | 122kB 5.4MB/s eta 0:00:01\r\u001b[K     |██████████████████              | 133kB 5.4MB/s eta 0:00:01\r\u001b[K     |███████████████████▌            | 143kB 5.4MB/s eta 0:00:01\r\u001b[K     |████████████████████▉           | 153kB 5.4MB/s eta 0:00:01\r\u001b[K     |██████████████████████▎         | 163kB 5.4MB/s eta 0:00:01\r\u001b[K     |███████████████████████▋        | 174kB 5.4MB/s eta 0:00:01\r\u001b[K     |█████████████████████████       | 184kB 5.4MB/s eta 0:00:01\r\u001b[K     |██████████████████████████▍     | 194kB 5.4MB/s eta 0:00:01\r\u001b[K     |███████████████████████████▉    | 204kB 5.4MB/s eta 0:00:01\r\u001b[K     |█████████████████████████████▏  | 215kB 5.4MB/s eta 0:00:01\r\u001b[K     |██████████████████████████████▋ | 225kB 5.4MB/s eta 0:00:01\r\u001b[K     |████████████████████████████████| 235kB 5.4MB/s eta 0:00:01\r\u001b[K     |████████████████████████████████| 245kB 5.4MB/s \n",
            "\u001b[?25hRequirement already satisfied: setuptools>=41.0.0 in /usr/local/lib/python3.7/dist-packages (from causalml) (54.2.0)\n",
            "Requirement already satisfied: pip>=10.0 in /usr/local/lib/python3.7/dist-packages (from causalml) (19.3.1)\n",
            "Collecting numpy<1.19.0,>=0.16.0\n",
            "\u001b[?25l  Downloading https://files.pythonhosted.org/packages/d6/c6/58e517e8b1fb192725cfa23c01c2e60e4e6699314ee9684a1c5f5c9b27e1/numpy-1.18.5-cp37-cp37m-manylinux1_x86_64.whl (20.1MB)\n",
            "\u001b[K     |████████████████████████████████| 20.1MB 42.6MB/s \n",
            "\u001b[?25hRequirement already satisfied: scipy==1.4.1 in /usr/local/lib/python3.7/dist-packages (from causalml) (1.4.1)\n",
            "Requirement already satisfied: matplotlib in /usr/local/lib/python3.7/dist-packages (from causalml) (3.2.2)\n",
            "Requirement already satisfied: pandas>=0.24.1 in /usr/local/lib/python3.7/dist-packages (from causalml) (1.1.5)\n",
            "Requirement already satisfied: scikit-learn<0.24.0,>=0.22.0 in /usr/local/lib/python3.7/dist-packages (from causalml) (0.22.2.post1)\n",
            "Requirement already satisfied: statsmodels>=0.9.0 in /usr/local/lib/python3.7/dist-packages (from causalml) (0.10.2)\n",
            "Requirement already satisfied: seaborn in /usr/local/lib/python3.7/dist-packages (from causalml) (0.11.1)\n",
            "Requirement already satisfied: Cython>=0.28.0 in /usr/local/lib/python3.7/dist-packages (from causalml) (0.29.22)\n",
            "Requirement already satisfied: xgboost in /usr/local/lib/python3.7/dist-packages (from causalml) (0.90)\n",
            "Requirement already satisfied: pydotplus in /usr/local/lib/python3.7/dist-packages (from causalml) (2.0.2)\n",
            "Requirement already satisfied: tqdm in /usr/local/lib/python3.7/dist-packages (from causalml) (4.41.1)\n",
            "Collecting shap<0.38.1\n",
            "\u001b[?25l  Downloading https://files.pythonhosted.org/packages/85/a3/c0eab9dd6a894165e2cb87504ff5b2710ac5ede3447d9138620b7341b6a2/shap-0.37.0.tar.gz (326kB)\n",
            "\u001b[K     |████████████████████████████████| 327kB 40.2MB/s \n",
            "\u001b[?25hRequirement already satisfied: dill in /usr/local/lib/python3.7/dist-packages (from causalml) (0.3.3)\n",
            "Requirement already satisfied: lightgbm in /usr/local/lib/python3.7/dist-packages (from causalml) (2.2.3)\n",
            "Collecting pygam\n",
            "\u001b[?25l  Downloading https://files.pythonhosted.org/packages/13/be/775033ef08a8945bec6ad7973b161ca909f852442e0d7cfb8d1a214de1ac/pygam-0.8.0-py2.py3-none-any.whl (1.8MB)\n",
            "\u001b[K     |████████████████████████████████| 1.8MB 37.4MB/s \n",
            "\u001b[?25hRequirement already satisfied: packaging in /usr/local/lib/python3.7/dist-packages (from causalml) (20.9)\n",
            "Requirement already satisfied: keras in /usr/local/lib/python3.7/dist-packages (from causalml) (2.4.3)\n",
            "Requirement already satisfied: tensorflow>=1.15.2 in /usr/local/lib/python3.7/dist-packages (from causalml) (2.4.1)\n",
            "Requirement already satisfied: torch in /usr/local/lib/python3.7/dist-packages (from causalml) (1.8.1+cu101)\n",
            "Requirement already satisfied: pyro-ppl in /usr/local/lib/python3.7/dist-packages/pyro_ppl-1.6.0+aace18a-py3.7.egg (from causalml) (1.6.0+aace18a)\n",
            "Requirement already satisfied: cycler>=0.10 in /usr/local/lib/python3.7/dist-packages (from matplotlib->causalml) (0.10.0)\n",
            "Requirement already satisfied: python-dateutil>=2.1 in /usr/local/lib/python3.7/dist-packages (from matplotlib->causalml) (2.8.1)\n",
            "Requirement already satisfied: pyparsing!=2.0.4,!=2.1.2,!=2.1.6,>=2.0.1 in /usr/local/lib/python3.7/dist-packages (from matplotlib->causalml) (2.4.7)\n",
            "Requirement already satisfied: kiwisolver>=1.0.1 in /usr/local/lib/python3.7/dist-packages (from matplotlib->causalml) (1.3.1)\n",
            "Requirement already satisfied: pytz>=2017.2 in /usr/local/lib/python3.7/dist-packages (from pandas>=0.24.1->causalml) (2018.9)\n",
            "Requirement already satisfied: joblib>=0.11 in /usr/local/lib/python3.7/dist-packages (from scikit-learn<0.24.0,>=0.22.0->causalml) (1.0.1)\n",
            "Requirement already satisfied: patsy>=0.4.0 in /usr/local/lib/python3.7/dist-packages (from statsmodels>=0.9.0->causalml) (0.5.1)\n",
            "Collecting slicer==0.0.3\n",
            "  Downloading https://files.pythonhosted.org/packages/02/a6/c708c5a0f338e99cfbcb6288b88794525548e4fc1b8457feec2c552a81a4/slicer-0.0.3-py3-none-any.whl\n",
            "Requirement already satisfied: numba in /usr/local/lib/python3.7/dist-packages (from shap<0.38.1->causalml) (0.51.2)\n",
            "Requirement already satisfied: future in /usr/local/lib/python3.7/dist-packages (from pygam->causalml) (0.16.0)\n",
            "Requirement already satisfied: progressbar2 in /usr/local/lib/python3.7/dist-packages (from pygam->causalml) (3.38.0)\n",
            "Requirement already satisfied: pyyaml in /usr/local/lib/python3.7/dist-packages (from keras->causalml) (3.13)\n",
            "Requirement already satisfied: h5py in /usr/local/lib/python3.7/dist-packages (from keras->causalml) (2.10.0)\n",
            "Requirement already satisfied: tensorflow-estimator<2.5.0,>=2.4.0 in /usr/local/lib/python3.7/dist-packages (from tensorflow>=1.15.2->causalml) (2.4.0)\n",
            "Requirement already satisfied: absl-py~=0.10 in /usr/local/lib/python3.7/dist-packages (from tensorflow>=1.15.2->causalml) (0.12.0)\n",
            "Requirement already satisfied: six~=1.15.0 in /usr/local/lib/python3.7/dist-packages (from tensorflow>=1.15.2->causalml) (1.15.0)\n",
            "Requirement already satisfied: gast==0.3.3 in /usr/local/lib/python3.7/dist-packages (from tensorflow>=1.15.2->causalml) (0.3.3)\n",
            "Requirement already satisfied: tensorboard~=2.4 in /usr/local/lib/python3.7/dist-packages (from tensorflow>=1.15.2->causalml) (2.4.1)\n",
            "Requirement already satisfied: flatbuffers~=1.12.0 in /usr/local/lib/python3.7/dist-packages (from tensorflow>=1.15.2->causalml) (1.12)\n",
            "Requirement already satisfied: wheel~=0.35 in /usr/local/lib/python3.7/dist-packages (from tensorflow>=1.15.2->causalml) (0.36.2)\n",
            "Requirement already satisfied: opt-einsum~=3.3.0 in /usr/local/lib/python3.7/dist-packages (from tensorflow>=1.15.2->causalml) (3.3.0)\n",
            "Requirement already satisfied: keras-preprocessing~=1.1.2 in /usr/local/lib/python3.7/dist-packages (from tensorflow>=1.15.2->causalml) (1.1.2)\n",
            "Requirement already satisfied: protobuf>=3.9.2 in /usr/local/lib/python3.7/dist-packages (from tensorflow>=1.15.2->causalml) (3.12.4)\n",
            "Requirement already satisfied: termcolor~=1.1.0 in /usr/local/lib/python3.7/dist-packages (from tensorflow>=1.15.2->causalml) (1.1.0)\n",
            "Requirement already satisfied: wrapt~=1.12.1 in /usr/local/lib/python3.7/dist-packages (from tensorflow>=1.15.2->causalml) (1.12.1)\n",
            "Requirement already satisfied: grpcio~=1.32.0 in /usr/local/lib/python3.7/dist-packages (from tensorflow>=1.15.2->causalml) (1.32.0)\n",
            "Requirement already satisfied: astunparse~=1.6.3 in /usr/local/lib/python3.7/dist-packages (from tensorflow>=1.15.2->causalml) (1.6.3)\n",
            "Requirement already satisfied: google-pasta~=0.2 in /usr/local/lib/python3.7/dist-packages (from tensorflow>=1.15.2->causalml) (0.2.0)\n",
            "Requirement already satisfied: typing-extensions~=3.7.4 in /usr/local/lib/python3.7/dist-packages (from tensorflow>=1.15.2->causalml) (3.7.4.3)\n",
            "Requirement already satisfied: pyro-api>=0.1.1 in /usr/local/lib/python3.7/dist-packages/pyro_api-0.1.2-py3.7.egg (from pyro-ppl->causalml) (0.1.2)\n",
            "Requirement already satisfied: llvmlite<0.35,>=0.34.0.dev0 in /usr/local/lib/python3.7/dist-packages (from numba->shap<0.38.1->causalml) (0.34.0)\n",
            "Requirement already satisfied: python-utils>=2.3.0 in /usr/local/lib/python3.7/dist-packages (from progressbar2->pygam->causalml) (2.5.6)\n",
            "Requirement already satisfied: markdown>=2.6.8 in /usr/local/lib/python3.7/dist-packages (from tensorboard~=2.4->tensorflow>=1.15.2->causalml) (3.3.4)\n",
            "Requirement already satisfied: google-auth-oauthlib<0.5,>=0.4.1 in /usr/local/lib/python3.7/dist-packages (from tensorboard~=2.4->tensorflow>=1.15.2->causalml) (0.4.3)\n",
            "Requirement already satisfied: tensorboard-plugin-wit>=1.6.0 in /usr/local/lib/python3.7/dist-packages (from tensorboard~=2.4->tensorflow>=1.15.2->causalml) (1.8.0)\n",
            "Requirement already satisfied: werkzeug>=0.11.15 in /usr/local/lib/python3.7/dist-packages (from tensorboard~=2.4->tensorflow>=1.15.2->causalml) (1.0.1)\n",
            "Requirement already satisfied: requests<3,>=2.21.0 in /usr/local/lib/python3.7/dist-packages (from tensorboard~=2.4->tensorflow>=1.15.2->causalml) (2.23.0)\n",
            "Requirement already satisfied: google-auth<2,>=1.6.3 in /usr/local/lib/python3.7/dist-packages (from tensorboard~=2.4->tensorflow>=1.15.2->causalml) (1.28.0)\n",
            "Requirement already satisfied: importlib-metadata; python_version < \"3.8\" in /usr/local/lib/python3.7/dist-packages (from markdown>=2.6.8->tensorboard~=2.4->tensorflow>=1.15.2->causalml) (3.8.1)\n",
            "Requirement already satisfied: requests-oauthlib>=0.7.0 in /usr/local/lib/python3.7/dist-packages (from google-auth-oauthlib<0.5,>=0.4.1->tensorboard~=2.4->tensorflow>=1.15.2->causalml) (1.3.0)\n",
            "Requirement already satisfied: chardet<4,>=3.0.2 in /usr/local/lib/python3.7/dist-packages (from requests<3,>=2.21.0->tensorboard~=2.4->tensorflow>=1.15.2->causalml) (3.0.4)\n",
            "Requirement already satisfied: urllib3!=1.25.0,!=1.25.1,<1.26,>=1.21.1 in /usr/local/lib/python3.7/dist-packages (from requests<3,>=2.21.0->tensorboard~=2.4->tensorflow>=1.15.2->causalml) (1.24.3)\n",
            "Requirement already satisfied: certifi>=2017.4.17 in /usr/local/lib/python3.7/dist-packages (from requests<3,>=2.21.0->tensorboard~=2.4->tensorflow>=1.15.2->causalml) (2020.12.5)\n",
            "Requirement already satisfied: idna<3,>=2.5 in /usr/local/lib/python3.7/dist-packages (from requests<3,>=2.21.0->tensorboard~=2.4->tensorflow>=1.15.2->causalml) (2.10)\n",
            "Requirement already satisfied: pyasn1-modules>=0.2.1 in /usr/local/lib/python3.7/dist-packages (from google-auth<2,>=1.6.3->tensorboard~=2.4->tensorflow>=1.15.2->causalml) (0.2.8)\n",
            "Requirement already satisfied: rsa<5,>=3.1.4; python_version >= \"3.6\" in /usr/local/lib/python3.7/dist-packages (from google-auth<2,>=1.6.3->tensorboard~=2.4->tensorflow>=1.15.2->causalml) (4.7.2)\n",
            "Requirement already satisfied: cachetools<5.0,>=2.0.0 in /usr/local/lib/python3.7/dist-packages (from google-auth<2,>=1.6.3->tensorboard~=2.4->tensorflow>=1.15.2->causalml) (4.2.1)\n",
            "Requirement already satisfied: zipp>=0.5 in /usr/local/lib/python3.7/dist-packages (from importlib-metadata; python_version < \"3.8\"->markdown>=2.6.8->tensorboard~=2.4->tensorflow>=1.15.2->causalml) (3.4.1)\n",
            "Requirement already satisfied: oauthlib>=3.0.0 in /usr/local/lib/python3.7/dist-packages (from requests-oauthlib>=0.7.0->google-auth-oauthlib<0.5,>=0.4.1->tensorboard~=2.4->tensorflow>=1.15.2->causalml) (3.1.0)\n",
            "Requirement already satisfied: pyasn1<0.5.0,>=0.4.6 in /usr/local/lib/python3.7/dist-packages (from pyasn1-modules>=0.2.1->google-auth<2,>=1.6.3->tensorboard~=2.4->tensorflow>=1.15.2->causalml) (0.4.8)\n",
            "Building wheels for collected packages: causalml, shap\n",
            "  Building wheel for causalml (setup.py) ... \u001b[?25l\u001b[?25hdone\n",
            "  Created wheel for causalml: filename=causalml-0.10.0-cp37-cp37m-linux_x86_64.whl size=493679 sha256=26745d5f786413837bc87f5c63dee9f8a6dda8c5fd3e7f1bd8900972d0f9d2e1\n",
            "  Stored in directory: /root/.cache/pip/wheels/81/7f/44/c9d5ecf03f0d950f53302a5eab1c76bec07bcd5868753e22bf\n",
            "  Building wheel for shap (setup.py) ... \u001b[?25l\u001b[?25hdone\n",
            "  Created wheel for shap: filename=shap-0.37.0-cp37-cp37m-linux_x86_64.whl size=465040 sha256=fa0e5424c8460a0b6e757943721d7d091d87a4189803efd3a7a5b9ffb3925c99\n",
            "  Stored in directory: /root/.cache/pip/wheels/df/ad/b0/aa7815ec68850d66551ef618095eccb962c8f6022f1d3dd989\n",
            "Successfully built causalml shap\n",
            "\u001b[31mERROR: tensorflow 2.4.1 has requirement numpy~=1.19.2, but you'll have numpy 1.18.5 which is incompatible.\u001b[0m\n",
            "\u001b[31mERROR: datascience 0.10.6 has requirement folium==0.2.1, but you'll have folium 0.8.3 which is incompatible.\u001b[0m\n",
            "\u001b[31mERROR: albumentations 0.1.12 has requirement imgaug<0.2.7,>=0.2.5, but you'll have imgaug 0.2.9 which is incompatible.\u001b[0m\n",
            "Installing collected packages: numpy, slicer, shap, pygam, causalml\n",
            "  Found existing installation: numpy 1.19.5\n",
            "    Uninstalling numpy-1.19.5:\n",
            "      Successfully uninstalled numpy-1.19.5\n",
            "Successfully installed causalml-0.10.0 numpy-1.18.5 pygam-0.8.0 shap-0.37.0 slicer-0.0.3\n"
          ],
          "name": "stdout"
        },
        {
          "output_type": "display_data",
          "data": {
            "application/vnd.colab-display-data+json": {
              "pip_warning": {
                "packages": [
                  "numpy"
                ]
              }
            }
          },
          "metadata": {
            "tags": []
          }
        }
      ]
    },
    {
      "cell_type": "markdown",
      "metadata": {
        "id": "kPeogui9fqbs"
      },
      "source": [
        ""
      ]
    },
    {
      "cell_type": "code",
      "metadata": {
        "id": "KhZbnVOBMKuS",
        "colab": {
          "base_uri": "https://localhost:8080/"
        },
        "outputId": "e3702138-55d2-41f2-9876-ee08a9d71eac"
      },
      "source": [
        "import pandas as pd\n",
        "import numpy as np\n",
        "from matplotlib import pyplot as plt\n",
        "import seaborn as sns\n",
        "import torch\n",
        "\n",
        "from sklearn.linear_model import LinearRegression\n",
        "from sklearn.model_selection import train_test_split\n",
        "from xgboost import XGBRegressor\n",
        "from lightgbm import LGBMRegressor\n",
        "from sklearn.metrics import mean_absolute_error\n",
        "from sklearn.metrics import mean_squared_error as mse\n",
        "from scipy.stats import entropy\n",
        "import warnings\n",
        "import logging\n",
        "\n",
        "from causalml.inference.meta import BaseXRegressor, BaseRRegressor, BaseSRegressor, BaseTRegressor\n",
        "from causalml.propensity import ElasticNetPropensityModel\n",
        "from causalml.metrics import *\n",
        "from causalml.dataset import simulate_hidden_confounder"
      ],
      "execution_count": null,
      "outputs": [
        {
          "output_type": "stream",
          "text": [
            "/usr/local/lib/python3.7/dist-packages/statsmodels/tools/_testing.py:19: FutureWarning: pandas.util.testing is deprecated. Use the functions in the public API at pandas.testing instead.\n",
            "  import pandas.util.testing as tm\n"
          ],
          "name": "stderr"
        }
      ]
    },
    {
      "cell_type": "code",
      "metadata": {
        "colab": {
          "base_uri": "https://localhost:8080/"
        },
        "id": "aWtK0OBYHIhn",
        "outputId": "f0fd72ac-f6f9-4b49-e621-4370941033d9"
      },
      "source": [
        "df= pd.read_csv('https://raw.githubusercontent.com/AMLab-Amsterdam/CEVAE/master/datasets/IHDP/csv/ihdp_npci_1.csv', header = None)\n",
        "\n",
        "df.dataframeName = 'data'\n",
        "\n",
        "cols =  [\"treatment\", \"y_factual\", \"y_cfactual\", \"mu0\", \"mu1\"] + [i for i in range(25)]\n",
        "\n",
        "df.columns = cols\n",
        "df.head()\n",
        "\n",
        "df = pd.concat([df]*100, ignore_index=True)\n",
        "print(df.shape)"
      ],
      "execution_count": null,
      "outputs": [
        {
          "output_type": "stream",
          "text": [
            "(74700, 30)\n"
          ],
          "name": "stdout"
        }
      ]
    },
    {
      "cell_type": "code",
      "metadata": {
        "id": "Ecgfu_hmMLws"
      },
      "source": [
        "#precising variables type\n",
        "binfeats = [6, 7, 8, 9, 10, 11, 12, 13, 14, 15, 16, 17, 18, 19, 20, 21, 22, 23, 24]\n",
        "contfeats = [i for i in range(25) if i not in binfeats]\n",
        "perm = binfeats + contfeats\n",
        "df = df.reset_index(drop=True)\n",
        "df.head()"
      ],
      "execution_count": null,
      "outputs": []
    },
    {
      "cell_type": "code",
      "metadata": {
        "id": "rxB2naOBMPAO"
      },
      "source": [
        "X = df[perm].values\n",
        "treatment = df['treatment'].values\n",
        "y = df['y_factual'].values\n",
        "y_cf = df['y_cfactual'].values\n",
        "tau = df.apply(lambda y: y['y_factual'] - y['y_cfactual'] if y['treatment']==1 \n",
        "               else y['y_cfactual'] - y['y_factual'], \n",
        "               axis=1)\n",
        "mu_0 = df['mu0'].values\n",
        "mu_1 = df['mu1'].values"
      ],
      "execution_count": null,
      "outputs": []
    },
    {
      "cell_type": "code",
      "metadata": {
        "id": "1fD_MGT2MSGT"
      },
      "source": [
        "# train and test\n",
        "itr, ite = train_test_split(np.arange(X.shape[0]), test_size=0.2, random_state=1)\n",
        "X_train, treatment_train, y_train, y_cf_train, tau_train, mu_0_train, mu_1_train = X[itr], treatment[itr], y[itr], y_cf[itr], tau[itr], mu_0[itr], mu_1[itr]\n",
        "X_val, treatment_val, y_val, y_cf_val, tau_val, mu_0_val, mu_1_val = X[ite], treatment[ite], y[ite], y_cf[ite], tau[ite], mu_0[ite], mu_1[ite]"
      ],
      "execution_count": null,
      "outputs": []
    },
    {
      "cell_type": "code",
      "metadata": {
        "id": "juWfwn5DMW6F"
      },
      "source": [
        "# model settings\n",
        "outcome_dist = \"normal\"\n",
        "latent_dim = 20\n",
        "hidden_dim = 300\n",
        "num_epochs = 5\n",
        "batch_size = 1000\n",
        "learning_rate = 0.001\n",
        "learning_rate_decay = 0.01\n",
        "num_layers =20"
      ],
      "execution_count": null,
      "outputs": []
    },
    {
      "cell_type": "code",
      "metadata": {
        "id": "gA98B01X5-Wm"
      },
      "source": [
        "import logging\n",
        "import torch\n",
        "from pyro.contrib.cevae import CEVAE as CEVAEModel\n",
        "\n",
        "from causalml.inference.meta.utils import convert_pd_to_np\n",
        "\n",
        "pyro_logger = logging.getLogger(\"pyro\")\n",
        "pyro_logger.setLevel(logging.DEBUG)\n",
        "if pyro_logger.handlers:\n",
        "    pyro_logger.handlers[0].setLevel(logging.DEBUG)\n",
        "\n",
        "\n",
        "class CEVAE:\n",
        "    def __init__(self, outcome_dist=\"studentt\", latent_dim=20, hidden_dim=200, num_epochs=50, num_layers=3,\n",
        "                 batch_size=100, learning_rate=1e-3, learning_rate_decay=0.1, num_samples=1000, weight_decay=1e-4):\n",
        "        \"\"\"\n",
        "        Initializes CEVAE.\n",
        "            Args:\n",
        "                outcome_dist (str): Outcome distribution as one of: \"bernoulli\" , \"exponential\", \"laplace\", \"normal\",\n",
        "                                    and \"studentt\"\n",
        "                latent_dim (int) : Dimension of the latent variable\n",
        "                hidden_dim (int) : Dimension of hidden layers of fully connected networks\n",
        "                num_epochs (int): Number of training epochs\n",
        "                num_layers (int): Number of hidden layers in fully connected networks\n",
        "                batch_size (int): Batch size\n",
        "                learning_rate (int): Learning rate\n",
        "                learning_rate_decay (float/int): Learning rate decay over all epochs; the per-step decay rate will\n",
        "                                                 depend on batch size and number of epochs such that the initial\n",
        "                                                 learning rate will be learning_rate and the\n",
        "                                                 final learning rate will be learning_rate * learning_rate_decay\n",
        "                num_samples (int) : Number of samples to calculate ITE\n",
        "                weight_decay (float) : Weight decay\n",
        "        \"\"\"\n",
        "        self.outcome_dist = outcome_dist\n",
        "        self.latent_dim = latent_dim\n",
        "        self.hidden_dim = hidden_dim\n",
        "        self.num_epochs = num_epochs\n",
        "        self.num_layers = num_layers\n",
        "        self.batch_size = batch_size\n",
        "        self.learning_rate = learning_rate\n",
        "        self.learning_rate_decay = learning_rate_decay\n",
        "        self.num_samples = num_samples\n",
        "        self.weight_decay = weight_decay\n",
        "\n",
        "    def fit(self, X, treatment, y, p=None):\n",
        "        \"\"\"\n",
        "        Fits CEVAE.\n",
        "        Args:\n",
        "            X (np.matrix or np.array or pd.Dataframe): a feature matrix\n",
        "            treatment (np.array or pd.Series): a treatment vector\n",
        "            y (np.array or pd.Series): an outcome vector\n",
        "        \"\"\"\n",
        "        X, treatment, y = convert_pd_to_np(X, treatment, y)\n",
        "\n",
        "        self.cevae = CEVAEModel(outcome_dist=self.outcome_dist,\n",
        "                           feature_dim=X.shape[-1],\n",
        "                           latent_dim=self.latent_dim,\n",
        "                           hidden_dim=self.hidden_dim,\n",
        "                           num_layers=self.num_layers)\n",
        "\n",
        "        self.cevae.fit(x=torch.tensor(X, dtype=torch.float),\n",
        "                       t=torch.tensor(treatment, dtype=torch.float),\n",
        "                       y=torch.tensor(y, dtype=torch.float),\n",
        "                       num_epochs=self.num_epochs,\n",
        "                       batch_size=self.batch_size,\n",
        "                       learning_rate=self.learning_rate,\n",
        "                       learning_rate_decay=self.learning_rate_decay,\n",
        "                       weight_decay=self.weight_decay)\n",
        "\n",
        "    def predict(self, X, treatment=None, y=None, p=None):\n",
        "        \"\"\"\n",
        "        Calls predict on fitted DragonNet.\n",
        "        Args:\n",
        "            X (np.matrix or np.array or pd.Dataframe): a feature matrix\n",
        "        Returns:\n",
        "            (np.ndarray): Predictions of treatment effects.\n",
        "        \"\"\"\n",
        "        return self.cevae.ite(torch.tensor(X, dtype=torch.float),\n",
        "                              num_samples=self.num_samples,\n",
        "                              batch_size=self.batch_size).cpu().numpy()\n",
        "\n",
        "    def fit_predict(self, X, treatment, y, p=None):\n",
        "        \"\"\"\n",
        "        Fits the CEVAE model and then predicts.\n",
        "        Args:\n",
        "            X (np.matrix or np.array or pd.Dataframe): a feature matrix\n",
        "            treatment (np.array or pd.Series): a treatment vector\n",
        "            y (np.array or pd.Series): an outcome vector\n",
        "        Returns:\n",
        "            (np.ndarray): Predictions of treatment effects.\n",
        "        \"\"\"\n",
        "        self.fit(X, treatment, y)\n",
        "        return self.predict(X)"
      ],
      "execution_count": null,
      "outputs": []
    },
    {
      "cell_type": "code",
      "metadata": {
        "id": "8dc2C6geGLYX"
      },
      "source": [
        "# from  model import CEVAE\n",
        "\n",
        "cevae_model = CEVAE(outcome_dist=outcome_dist,\n",
        "              latent_dim=latent_dim,\n",
        "              hidden_dim=hidden_dim,\n",
        "              num_epochs=num_epochs,\n",
        "              batch_size=batch_size,\n",
        "              learning_rate=learning_rate,\n",
        "              learning_rate_decay=learning_rate_decay,\n",
        "              num_layers=num_layers)"
      ],
      "execution_count": null,
      "outputs": []
    },
    {
      "cell_type": "code",
      "metadata": {
        "colab": {
          "base_uri": "https://localhost:8080/"
        },
        "id": "QQNh6TkGGUIc",
        "outputId": "f5548742-7dc3-4523-80cf-de3babfdfa16"
      },
      "source": [
        "# fit\n",
        "losses = cevae_model.fit(X=torch.tensor(X_train, dtype=torch.float),\n",
        "                   treatment=torch.tensor(treatment_train, dtype=torch.float),\n",
        "                   y=torch.tensor(y_train, dtype=torch.float))"
      ],
      "execution_count": null,
      "outputs": [
        {
          "output_type": "stream",
          "text": [
            "INFO \t Training with 60 minibatches per epoch\n",
            "DEBUG \t step     0 loss = 78.0852\n",
            "DEBUG \t step   100 loss = 24.8715\n",
            "DEBUG \t step   200 loss = 22.608\n"
          ],
          "name": "stderr"
        }
      ]
    },
    {
      "cell_type": "code",
      "metadata": {
        "colab": {
          "base_uri": "https://localhost:8080/"
        },
        "id": "LZRt9YyjGc69",
        "outputId": "a06504ea-036b-4952-84be-ee4756e99192"
      },
      "source": [
        "#train \n",
        "ite_train = cevae_model.predict(X_train)\n",
        "ite_val = cevae_model.predict(X_val)"
      ],
      "execution_count": null,
      "outputs": [
        {
          "output_type": "stream",
          "text": [
            "INFO \t Evaluating 60 minibatches\n",
            "DEBUG \t batch ate = 4.01588\n",
            "DEBUG \t batch ate = 4.02003\n",
            "DEBUG \t batch ate = 4.02169\n",
            "DEBUG \t batch ate = 4.018\n",
            "DEBUG \t batch ate = 4.02057\n",
            "DEBUG \t batch ate = 4.00867\n",
            "DEBUG \t batch ate = 4.02758\n",
            "DEBUG \t batch ate = 4.01617\n",
            "DEBUG \t batch ate = 4.02131\n",
            "DEBUG \t batch ate = 4.02971\n",
            "DEBUG \t batch ate = 4.00292\n",
            "DEBUG \t batch ate = 3.99255\n",
            "DEBUG \t batch ate = 4.01851\n",
            "DEBUG \t batch ate = 4.02866\n",
            "DEBUG \t batch ate = 4.02144\n",
            "DEBUG \t batch ate = 4.00985\n",
            "DEBUG \t batch ate = 4.00614\n",
            "DEBUG \t batch ate = 4.00623\n",
            "DEBUG \t batch ate = 4.04216\n",
            "DEBUG \t batch ate = 4.02576\n",
            "DEBUG \t batch ate = 4.02717\n",
            "DEBUG \t batch ate = 3.99947\n",
            "DEBUG \t batch ate = 4.0291\n",
            "DEBUG \t batch ate = 4.01242\n",
            "DEBUG \t batch ate = 4.02471\n",
            "DEBUG \t batch ate = 3.98554\n",
            "DEBUG \t batch ate = 4.00191\n",
            "DEBUG \t batch ate = 4.03238\n",
            "DEBUG \t batch ate = 4.01898\n",
            "DEBUG \t batch ate = 4.02727\n",
            "DEBUG \t batch ate = 3.99057\n",
            "DEBUG \t batch ate = 4.03328\n",
            "DEBUG \t batch ate = 4.01537\n",
            "DEBUG \t batch ate = 4.01575\n",
            "DEBUG \t batch ate = 4.00412\n",
            "DEBUG \t batch ate = 4.00931\n",
            "DEBUG \t batch ate = 4.02397\n",
            "DEBUG \t batch ate = 4.00733\n",
            "DEBUG \t batch ate = 4.01533\n",
            "DEBUG \t batch ate = 4.03495\n",
            "DEBUG \t batch ate = 4.02302\n",
            "DEBUG \t batch ate = 4.01117\n",
            "DEBUG \t batch ate = 4.01894\n",
            "DEBUG \t batch ate = 4.02055\n",
            "DEBUG \t batch ate = 4.02041\n",
            "DEBUG \t batch ate = 4.01873\n",
            "DEBUG \t batch ate = 4.00706\n",
            "DEBUG \t batch ate = 4.0315\n",
            "DEBUG \t batch ate = 4.00628\n",
            "DEBUG \t batch ate = 4.03673\n",
            "DEBUG \t batch ate = 4.01914\n",
            "DEBUG \t batch ate = 4.01837\n",
            "DEBUG \t batch ate = 4.02373\n",
            "DEBUG \t batch ate = 4.03711\n",
            "DEBUG \t batch ate = 4.03881\n",
            "DEBUG \t batch ate = 4.01946\n",
            "DEBUG \t batch ate = 4.0362\n",
            "DEBUG \t batch ate = 4.01293\n",
            "DEBUG \t batch ate = 4.01384\n",
            "DEBUG \t batch ate = 4.02604\n",
            "INFO \t Evaluating 15 minibatches\n",
            "DEBUG \t batch ate = 3.98788\n",
            "DEBUG \t batch ate = 4.02202\n",
            "DEBUG \t batch ate = 4.00794\n",
            "DEBUG \t batch ate = 3.99309\n",
            "DEBUG \t batch ate = 4.01424\n",
            "DEBUG \t batch ate = 4.02619\n",
            "DEBUG \t batch ate = 4.03516\n",
            "DEBUG \t batch ate = 4.04105\n",
            "DEBUG \t batch ate = 3.98425\n",
            "DEBUG \t batch ate = 4.01662\n",
            "DEBUG \t batch ate = 4.02554\n",
            "DEBUG \t batch ate = 4.01505\n",
            "DEBUG \t batch ate = 4.03278\n",
            "DEBUG \t batch ate = 4.01615\n",
            "DEBUG \t batch ate = 4.02499\n"
          ],
          "name": "stderr"
        }
      ]
    },
    {
      "cell_type": "code",
      "metadata": {
        "colab": {
          "base_uri": "https://localhost:8080/"
        },
        "id": "s-CGwllVGgKa",
        "outputId": "d8c5338f-bd0e-4d80-e1c1-03cd5b324c9a"
      },
      "source": [
        "ate_train = ite_train.mean()\n",
        "ate_val = ite_val.mean()\n",
        "print(ate_train, ate_val)"
      ],
      "execution_count": null,
      "outputs": [
        {
          "output_type": "stream",
          "text": [
            "4.0183487 4.0161624\n"
          ],
          "name": "stdout"
        }
      ]
    },
    {
      "cell_type": "markdown",
      "metadata": {
        "id": "Fif0ByU059aL"
      },
      "source": [
        ""
      ]
    }
  ]
}
